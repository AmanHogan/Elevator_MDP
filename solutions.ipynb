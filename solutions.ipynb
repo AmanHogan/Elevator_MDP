{
 "cells": [
  {
   "cell_type": "markdown",
   "metadata": {},
   "source": [
    "### **Problem 1:**\n",
    "\n",
    "1. Assuming that the only important aspect here is the *wait time* for a user, design the important\n",
    "components of an MDP and of the utility function for this problem. In particular:\n",
    "\n",
    "> a) Design an appropriate action space and state space for the MDP. For this you also need to\n",
    "consider what the time step for your model is.\n",
    "\n",
    "> b) Design a reward function that captures the requirement to minimize wait times. Make sure\n",
    "to describe how the simulator of the elevator would compute this reward function. Also\n",
    "state how you aggregate the rewards to a utility function.\n",
    "\n",
    "> c) Implement a simulator for the elevator system that provides the state and reward informa-\n",
    "tion updates for any given arrival and exit floor distribution for the passengers."
   ]
  },
  {
   "cell_type": "markdown",
   "metadata": {},
   "source": [
    "### Solution 1\n",
    "\n",
    "\n",
    "1. a) In a finite MPD, a **state space** is defined as all of the possible configurations the agent can be in given its environment. To create a state space we need to define all the pieces of important information to represent the MPD problem. I took into account the elevator, elevator floor, door status, call floors, exit floors, and location of the person. So to represent a single state, I combined this into a tuple:\n",
    "\n",
    "- $((E_{A}, F_{A}, D_{A}), (E_{B}, F_{B}, D_{B}), ((F_{Call}, F_{Exit}, F_{Location}), (F_{Call}, F_{Exit}, F_{Location})))$\n",
    "- Where:\n",
    "    - $E$ is one of the elevators\n",
    "    - $F$ is the floor of one of the elevators\n",
    "    - $Door$ is the status of the door (OPEN or CLOSED)\n",
    "    - $F_{Call}$ is the floor a person is calling from (0 if no passenger)\n",
    "    - $F_{Exit}$ is the floor a person wants to exit (0 if no passenger)\n",
    "    - $F_{Location}$ is where the person is located (IN_A, IN_B, or WAITING)\n",
    "\n",
    "The state space would be the combination of all possible values and would be of this size\n",
    "$|state space| = |((1, 6, 2), (1, 6, 2), ((7, 7, 3), (7, 7, 3)))| = $\n",
    "$|state space| = |1 x 6 x  2 x 1 x 6 x 2 x 7 x 7 x 3 x 7 x 7 x 3| = $\n",
    "$ 3111696 $\n",
    "\n",
    "\n",
    "\n",
    "\n",
    "(('A',<FLOOR>,<DOOR>),('B',<FLOOR>,<DOOR>),((<CALL>,<EXIT>,<LOCATION>),(<CALL>,<EXIT>,<LOCATION>)))\n"
   ]
  }
 ],
 "metadata": {
  "language_info": {
   "name": "python"
  }
 },
 "nbformat": 4,
 "nbformat_minor": 2
}
